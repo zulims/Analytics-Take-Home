{
 "cells": [
  {
   "cell_type": "code",
   "execution_count": 1,
   "metadata": {},
   "outputs": [],
   "source": [
    "import pandas as pd\n",
    "import datetime"
   ]
  },
  {
   "cell_type": "markdown",
   "metadata": {},
   "source": [
    "# Import and explore the \"spend\" file"
   ]
  },
  {
   "cell_type": "code",
   "execution_count": 2,
   "metadata": {},
   "outputs": [],
   "source": [
    "#Import the spend file as a Pandas dataframe\n",
    "spend_df = pd.read_csv('spend.csv.gz', compression='gzip', header=0, sep=',', quotechar='\"')"
   ]
  },
  {
   "cell_type": "code",
   "execution_count": 3,
   "metadata": {
    "scrolled": true
   },
   "outputs": [
    {
     "data": {
      "text/html": [
       "<div>\n",
       "<style scoped>\n",
       "    .dataframe tbody tr th:only-of-type {\n",
       "        vertical-align: middle;\n",
       "    }\n",
       "\n",
       "    .dataframe tbody tr th {\n",
       "        vertical-align: top;\n",
       "    }\n",
       "\n",
       "    .dataframe thead th {\n",
       "        text-align: right;\n",
       "    }\n",
       "</style>\n",
       "<table border=\"1\" class=\"dataframe\">\n",
       "  <thead>\n",
       "    <tr style=\"text-align: right;\">\n",
       "      <th></th>\n",
       "      <th>account</th>\n",
       "      <th>date</th>\n",
       "      <th>amount</th>\n",
       "    </tr>\n",
       "  </thead>\n",
       "  <tbody>\n",
       "    <tr>\n",
       "      <th>0</th>\n",
       "      <td>5e0a5eb5575517efdddb2799c90e2e9b</td>\n",
       "      <td>1502841600</td>\n",
       "      <td>15.144020</td>\n",
       "    </tr>\n",
       "    <tr>\n",
       "      <th>1</th>\n",
       "      <td>a04e063493c55bc6cecd9056712e9e47</td>\n",
       "      <td>102841600</td>\n",
       "      <td>730.070453</td>\n",
       "    </tr>\n",
       "    <tr>\n",
       "      <th>2</th>\n",
       "      <td>ff6cc8cadcb7457f9ddb2dd238a13733</td>\n",
       "      <td>1502841600</td>\n",
       "      <td>3651.412248</td>\n",
       "    </tr>\n",
       "    <tr>\n",
       "      <th>3</th>\n",
       "      <td>324a05f1f917b8a0af83a54e55a1ef63</td>\n",
       "      <td>1502841600</td>\n",
       "      <td>113.219243</td>\n",
       "    </tr>\n",
       "    <tr>\n",
       "      <th>4</th>\n",
       "      <td>b9abff45dc08172b556cb10b7c3c2252</td>\n",
       "      <td>1502841600</td>\n",
       "      <td>697.224210</td>\n",
       "    </tr>\n",
       "  </tbody>\n",
       "</table>\n",
       "</div>"
      ],
      "text/plain": [
       "                            account        date       amount\n",
       "0  5e0a5eb5575517efdddb2799c90e2e9b  1502841600    15.144020\n",
       "1  a04e063493c55bc6cecd9056712e9e47   102841600   730.070453\n",
       "2  ff6cc8cadcb7457f9ddb2dd238a13733  1502841600  3651.412248\n",
       "3  324a05f1f917b8a0af83a54e55a1ef63  1502841600   113.219243\n",
       "4  b9abff45dc08172b556cb10b7c3c2252  1502841600   697.224210"
      ]
     },
     "execution_count": 3,
     "metadata": {},
     "output_type": "execute_result"
    }
   ],
   "source": [
    "#Let's see what we're dealing with\n",
    "spend_df.head()"
   ]
  },
  {
   "cell_type": "code",
   "execution_count": 4,
   "metadata": {},
   "outputs": [
    {
     "data": {
      "text/plain": [
       "account     object\n",
       "date         int64\n",
       "amount     float64\n",
       "dtype: object"
      ]
     },
     "execution_count": 4,
     "metadata": {},
     "output_type": "execute_result"
    }
   ],
   "source": [
    "#Let's see what data types these are\n",
    "spend_df.dtypes"
   ]
  },
  {
   "cell_type": "code",
   "execution_count": 5,
   "metadata": {},
   "outputs": [
    {
     "data": {
      "text/plain": [
       "account    0\n",
       "date       0\n",
       "amount     0\n",
       "dtype: int64"
      ]
     },
     "execution_count": 5,
     "metadata": {},
     "output_type": "execute_result"
    }
   ],
   "source": [
    "#Check for NaN values\n",
    "spend_df.isna().sum()"
   ]
  },
  {
   "cell_type": "code",
   "execution_count": 6,
   "metadata": {},
   "outputs": [
    {
     "data": {
      "text/html": [
       "<div>\n",
       "<style scoped>\n",
       "    .dataframe tbody tr th:only-of-type {\n",
       "        vertical-align: middle;\n",
       "    }\n",
       "\n",
       "    .dataframe tbody tr th {\n",
       "        vertical-align: top;\n",
       "    }\n",
       "\n",
       "    .dataframe thead th {\n",
       "        text-align: right;\n",
       "    }\n",
       "</style>\n",
       "<table border=\"1\" class=\"dataframe\">\n",
       "  <thead>\n",
       "    <tr style=\"text-align: right;\">\n",
       "      <th></th>\n",
       "      <th>date</th>\n",
       "      <th>amount</th>\n",
       "    </tr>\n",
       "  </thead>\n",
       "  <tbody>\n",
       "    <tr>\n",
       "      <th>count</th>\n",
       "      <td>1.934135e+06</td>\n",
       "      <td>1.934135e+06</td>\n",
       "    </tr>\n",
       "    <tr>\n",
       "      <th>mean</th>\n",
       "      <td>1.531318e+09</td>\n",
       "      <td>3.018366e+02</td>\n",
       "    </tr>\n",
       "    <tr>\n",
       "      <th>std</th>\n",
       "      <td>1.346509e+07</td>\n",
       "      <td>1.121577e+03</td>\n",
       "    </tr>\n",
       "    <tr>\n",
       "      <th>min</th>\n",
       "      <td>1.028416e+08</td>\n",
       "      <td>-6.051673e+02</td>\n",
       "    </tr>\n",
       "    <tr>\n",
       "      <th>25%</th>\n",
       "      <td>1.520986e+09</td>\n",
       "      <td>1.532719e+01</td>\n",
       "    </tr>\n",
       "    <tr>\n",
       "      <th>50%</th>\n",
       "      <td>1.532909e+09</td>\n",
       "      <td>6.613464e+01</td>\n",
       "    </tr>\n",
       "    <tr>\n",
       "      <th>75%</th>\n",
       "      <td>1.542499e+09</td>\n",
       "      <td>2.349944e+02</td>\n",
       "    </tr>\n",
       "    <tr>\n",
       "      <th>max</th>\n",
       "      <td>1.552608e+09</td>\n",
       "      <td>3.073705e+05</td>\n",
       "    </tr>\n",
       "  </tbody>\n",
       "</table>\n",
       "</div>"
      ],
      "text/plain": [
       "               date        amount\n",
       "count  1.934135e+06  1.934135e+06\n",
       "mean   1.531318e+09  3.018366e+02\n",
       "std    1.346509e+07  1.121577e+03\n",
       "min    1.028416e+08 -6.051673e+02\n",
       "25%    1.520986e+09  1.532719e+01\n",
       "50%    1.532909e+09  6.613464e+01\n",
       "75%    1.542499e+09  2.349944e+02\n",
       "max    1.552608e+09  3.073705e+05"
      ]
     },
     "execution_count": 6,
     "metadata": {},
     "output_type": "execute_result"
    }
   ],
   "source": [
    "#let's try to get a basic summary of this data\n",
    "spend_df.describe()"
   ]
  },
  {
   "cell_type": "code",
   "execution_count": 7,
   "metadata": {},
   "outputs": [
    {
     "name": "stdout",
     "output_type": "stream",
     "text": [
      "Rows: 1934135\n",
      "Mean Amount: 301.836556328393\n",
      "Median Amount: 66.1346409112299\n"
     ]
    }
   ],
   "source": [
    "#the scientific notation makes that hard to digest so let's get some simpler numbers\n",
    "print(f\"Rows: {spend_df['amount'].count()}\")\n",
    "print(f\"Mean Amount: {spend_df['amount'].mean()}\")\n",
    "print(f\"Median Amount: {spend_df['amount'].median()}\")"
   ]
  },
  {
   "cell_type": "code",
   "execution_count": 8,
   "metadata": {},
   "outputs": [
    {
     "data": {
      "text/html": [
       "<div>\n",
       "<style scoped>\n",
       "    .dataframe tbody tr th:only-of-type {\n",
       "        vertical-align: middle;\n",
       "    }\n",
       "\n",
       "    .dataframe tbody tr th {\n",
       "        vertical-align: top;\n",
       "    }\n",
       "\n",
       "    .dataframe thead th {\n",
       "        text-align: right;\n",
       "    }\n",
       "</style>\n",
       "<table border=\"1\" class=\"dataframe\">\n",
       "  <thead>\n",
       "    <tr style=\"text-align: right;\">\n",
       "      <th></th>\n",
       "      <th>account</th>\n",
       "      <th>date</th>\n",
       "      <th>amount</th>\n",
       "    </tr>\n",
       "  </thead>\n",
       "  <tbody>\n",
       "    <tr>\n",
       "      <th>0</th>\n",
       "      <td>5e0a5eb5575517efdddb2799c90e2e9b</td>\n",
       "      <td>2017-08-16 00:00:00</td>\n",
       "      <td>15.144020</td>\n",
       "    </tr>\n",
       "    <tr>\n",
       "      <th>1</th>\n",
       "      <td>a04e063493c55bc6cecd9056712e9e47</td>\n",
       "      <td>1973-04-05 07:06:40</td>\n",
       "      <td>730.070453</td>\n",
       "    </tr>\n",
       "    <tr>\n",
       "      <th>2</th>\n",
       "      <td>ff6cc8cadcb7457f9ddb2dd238a13733</td>\n",
       "      <td>2017-08-16 00:00:00</td>\n",
       "      <td>3651.412248</td>\n",
       "    </tr>\n",
       "    <tr>\n",
       "      <th>3</th>\n",
       "      <td>324a05f1f917b8a0af83a54e55a1ef63</td>\n",
       "      <td>2017-08-16 00:00:00</td>\n",
       "      <td>113.219243</td>\n",
       "    </tr>\n",
       "    <tr>\n",
       "      <th>4</th>\n",
       "      <td>b9abff45dc08172b556cb10b7c3c2252</td>\n",
       "      <td>2017-08-16 00:00:00</td>\n",
       "      <td>697.224210</td>\n",
       "    </tr>\n",
       "  </tbody>\n",
       "</table>\n",
       "</div>"
      ],
      "text/plain": [
       "                            account                date       amount\n",
       "0  5e0a5eb5575517efdddb2799c90e2e9b 2017-08-16 00:00:00    15.144020\n",
       "1  a04e063493c55bc6cecd9056712e9e47 1973-04-05 07:06:40   730.070453\n",
       "2  ff6cc8cadcb7457f9ddb2dd238a13733 2017-08-16 00:00:00  3651.412248\n",
       "3  324a05f1f917b8a0af83a54e55a1ef63 2017-08-16 00:00:00   113.219243\n",
       "4  b9abff45dc08172b556cb10b7c3c2252 2017-08-16 00:00:00   697.224210"
      ]
     },
     "execution_count": 8,
     "metadata": {},
     "output_type": "execute_result"
    }
   ],
   "source": [
    "#Convert the 10 digit unix date to datetime in the df, then preview the result\n",
    "spend_df['date'] = pd.to_datetime(spend_df['date'], unit='s')\n",
    "spend_df.head()"
   ]
  },
  {
   "cell_type": "code",
   "execution_count": 9,
   "metadata": {},
   "outputs": [
    {
     "data": {
      "text/plain": [
       "1   1973-04-05 07:06:40\n",
       "0   2017-08-16 00:00:00\n",
       "2   2017-08-16 00:00:00\n",
       "3   2017-08-16 00:00:00\n",
       "4   2017-08-16 00:00:00\n",
       "Name: date, dtype: datetime64[ns]"
      ]
     },
     "execution_count": 9,
     "metadata": {},
     "output_type": "execute_result"
    }
   ],
   "source": [
    "#That 1973 date (index #1) looks suspicious. Let's see if there are any other dates that old.\n",
    "spend_df['date'].nsmallest(5)"
   ]
  },
  {
   "cell_type": "code",
   "execution_count": 10,
   "metadata": {},
   "outputs": [],
   "source": [
    "#This inconsistency appears to be the result of a digit missing from unix timestamp.\n",
    "#The inconsistent record should be dropped:\n",
    "spend_df_cleaned = spend_df.drop(1)"
   ]
  },
  {
   "cell_type": "code",
   "execution_count": 11,
   "metadata": {},
   "outputs": [
    {
     "name": "stdout",
     "output_type": "stream",
     "text": [
      "1934132   -6.051673e+02\n",
      "1663987    1.649581e-26\n",
      "42278      5.234396e-23\n",
      "1811362    2.177845e-16\n",
      "1179533    1.118548e-15\n",
      "Name: amount, dtype: float64\n",
      "----------------------------\n",
      "1085481    307370.457700\n",
      "1125984    307370.457700\n",
      "495209     244192.048700\n",
      "754373     188632.196857\n",
      "756878     178689.898916\n",
      "Name: amount, dtype: float64\n"
     ]
    }
   ],
   "source": [
    "#Check for outliers in the 'amount' column by looking at largest and smallest values\n",
    "print(spend_df_cleaned['amount'].nsmallest(5))\n",
    "print('----------------------------')\n",
    "print(spend_df_cleaned['amount'].nlargest(5))"
   ]
  },
  {
   "cell_type": "code",
   "execution_count": 12,
   "metadata": {},
   "outputs": [
    {
     "data": {
      "text/plain": [
       "1663987    1.649581e-26\n",
       "42278      5.234396e-23\n",
       "1811362    2.177845e-16\n",
       "1179533    1.118548e-15\n",
       "1007627    5.510904e-13\n",
       "Name: amount, dtype: float64"
      ]
     },
     "execution_count": 12,
     "metadata": {},
     "output_type": "execute_result"
    }
   ],
   "source": [
    "#There is only one negative number in a set of over a million\n",
    "#It should be dropped:\n",
    "spend_df_cleaned = spend_df_cleaned.drop(1934132)\n",
    "\n",
    "#check that it is gone\n",
    "spend_df_cleaned['amount'].nsmallest(5)"
   ]
  },
  {
   "cell_type": "code",
   "execution_count": 13,
   "metadata": {},
   "outputs": [
    {
     "data": {
      "text/plain": [
       "\"The 'spend' file contains records from 2017-08-16 00:00:00 to 2019-03-15 00:00:00\""
      ]
     },
     "execution_count": 13,
     "metadata": {},
     "output_type": "execute_result"
    }
   ],
   "source": [
    "#Now we can find what date range this dataset actually covers\n",
    "f\"The 'spend' file contains records from {spend_df_cleaned['date'].min()} to {spend_df_cleaned['date'].max()}\""
   ]
  },
  {
   "cell_type": "code",
   "execution_count": 14,
   "metadata": {},
   "outputs": [
    {
     "data": {
      "text/plain": [
       "10001"
      ]
     },
     "execution_count": 14,
     "metadata": {},
     "output_type": "execute_result"
    }
   ],
   "source": [
    "#How many unique accounts are in this data?\n",
    "unique_accounts = spend_df_cleaned.drop_duplicates(subset=['account'], keep='first').count()[0]\n",
    "unique_accounts"
   ]
  },
  {
   "cell_type": "markdown",
   "metadata": {},
   "source": [
    "# Repeat exploration for the \"counts\" file"
   ]
  },
  {
   "cell_type": "code",
   "execution_count": 15,
   "metadata": {},
   "outputs": [],
   "source": [
    "#Import the counts file as a Pandas dataframe\n",
    "counts_df = pd.read_csv('counts.csv.gz', compression='gzip', header=0, sep=',', quotechar='\"')"
   ]
  },
  {
   "cell_type": "code",
   "execution_count": 16,
   "metadata": {},
   "outputs": [
    {
     "data": {
      "text/html": [
       "<div>\n",
       "<style scoped>\n",
       "    .dataframe tbody tr th:only-of-type {\n",
       "        vertical-align: middle;\n",
       "    }\n",
       "\n",
       "    .dataframe tbody tr th {\n",
       "        vertical-align: top;\n",
       "    }\n",
       "\n",
       "    .dataframe thead th {\n",
       "        text-align: right;\n",
       "    }\n",
       "</style>\n",
       "<table border=\"1\" class=\"dataframe\">\n",
       "  <thead>\n",
       "    <tr style=\"text-align: right;\">\n",
       "      <th></th>\n",
       "      <th>account</th>\n",
       "      <th>date</th>\n",
       "      <th>count</th>\n",
       "    </tr>\n",
       "  </thead>\n",
       "  <tbody>\n",
       "    <tr>\n",
       "      <th>0</th>\n",
       "      <td>5e0a5eb5575517efdddb2799c90e2e9b</td>\n",
       "      <td>2017-08-16</td>\n",
       "      <td>56</td>\n",
       "    </tr>\n",
       "    <tr>\n",
       "      <th>1</th>\n",
       "      <td>a04e063493c55bc6cecd9056712e9e47</td>\n",
       "      <td>2017-08-16</td>\n",
       "      <td>180</td>\n",
       "    </tr>\n",
       "    <tr>\n",
       "      <th>2</th>\n",
       "      <td>ff6cc8cadcb7457f9ddb2dd238a13733</td>\n",
       "      <td>2017-08-16</td>\n",
       "      <td>432</td>\n",
       "    </tr>\n",
       "    <tr>\n",
       "      <th>3</th>\n",
       "      <td>324a05f1f917b8a0af83a54e55a1ef63</td>\n",
       "      <td>2017-08-16</td>\n",
       "      <td>50</td>\n",
       "    </tr>\n",
       "    <tr>\n",
       "      <th>4</th>\n",
       "      <td>b9abff45dc08172b556cb10b7c3c2252</td>\n",
       "      <td>2017-08-16</td>\n",
       "      <td>135</td>\n",
       "    </tr>\n",
       "  </tbody>\n",
       "</table>\n",
       "</div>"
      ],
      "text/plain": [
       "                            account        date  count\n",
       "0  5e0a5eb5575517efdddb2799c90e2e9b  2017-08-16     56\n",
       "1  a04e063493c55bc6cecd9056712e9e47  2017-08-16    180\n",
       "2  ff6cc8cadcb7457f9ddb2dd238a13733  2017-08-16    432\n",
       "3  324a05f1f917b8a0af83a54e55a1ef63  2017-08-16     50\n",
       "4  b9abff45dc08172b556cb10b7c3c2252  2017-08-16    135"
      ]
     },
     "execution_count": 16,
     "metadata": {},
     "output_type": "execute_result"
    }
   ],
   "source": [
    "counts_df.head()"
   ]
  },
  {
   "cell_type": "code",
   "execution_count": 17,
   "metadata": {},
   "outputs": [
    {
     "data": {
      "text/plain": [
       "account    object\n",
       "date       object\n",
       "count       int64\n",
       "dtype: object"
      ]
     },
     "execution_count": 17,
     "metadata": {},
     "output_type": "execute_result"
    }
   ],
   "source": [
    "#Check the datatypes\n",
    "counts_df.dtypes"
   ]
  },
  {
   "cell_type": "code",
   "execution_count": 18,
   "metadata": {},
   "outputs": [
    {
     "data": {
      "text/plain": [
       "account    0\n",
       "date       0\n",
       "count      0\n",
       "dtype: int64"
      ]
     },
     "execution_count": 18,
     "metadata": {},
     "output_type": "execute_result"
    }
   ],
   "source": [
    "#Checking for NaN values\n",
    "counts_df.isna().sum()"
   ]
  },
  {
   "cell_type": "code",
   "execution_count": 19,
   "metadata": {},
   "outputs": [
    {
     "data": {
      "text/html": [
       "<div>\n",
       "<style scoped>\n",
       "    .dataframe tbody tr th:only-of-type {\n",
       "        vertical-align: middle;\n",
       "    }\n",
       "\n",
       "    .dataframe tbody tr th {\n",
       "        vertical-align: top;\n",
       "    }\n",
       "\n",
       "    .dataframe thead th {\n",
       "        text-align: right;\n",
       "    }\n",
       "</style>\n",
       "<table border=\"1\" class=\"dataframe\">\n",
       "  <thead>\n",
       "    <tr style=\"text-align: right;\">\n",
       "      <th></th>\n",
       "      <th>count</th>\n",
       "    </tr>\n",
       "  </thead>\n",
       "  <tbody>\n",
       "    <tr>\n",
       "      <th>count</th>\n",
       "      <td>1.934028e+06</td>\n",
       "    </tr>\n",
       "    <tr>\n",
       "      <th>mean</th>\n",
       "      <td>4.145873e+01</td>\n",
       "    </tr>\n",
       "    <tr>\n",
       "      <th>std</th>\n",
       "      <td>7.499475e+01</td>\n",
       "    </tr>\n",
       "    <tr>\n",
       "      <th>min</th>\n",
       "      <td>1.000000e+01</td>\n",
       "    </tr>\n",
       "    <tr>\n",
       "      <th>25%</th>\n",
       "      <td>1.500000e+01</td>\n",
       "    </tr>\n",
       "    <tr>\n",
       "      <th>50%</th>\n",
       "      <td>2.400000e+01</td>\n",
       "    </tr>\n",
       "    <tr>\n",
       "      <th>75%</th>\n",
       "      <td>4.400000e+01</td>\n",
       "    </tr>\n",
       "    <tr>\n",
       "      <th>max</th>\n",
       "      <td>5.643000e+03</td>\n",
       "    </tr>\n",
       "  </tbody>\n",
       "</table>\n",
       "</div>"
      ],
      "text/plain": [
       "              count\n",
       "count  1.934028e+06\n",
       "mean   4.145873e+01\n",
       "std    7.499475e+01\n",
       "min    1.000000e+01\n",
       "25%    1.500000e+01\n",
       "50%    2.400000e+01\n",
       "75%    4.400000e+01\n",
       "max    5.643000e+03"
      ]
     },
     "execution_count": 19,
     "metadata": {},
     "output_type": "execute_result"
    }
   ],
   "source": [
    "counts_df.describe()"
   ]
  },
  {
   "cell_type": "code",
   "execution_count": 20,
   "metadata": {},
   "outputs": [
    {
     "name": "stdout",
     "output_type": "stream",
     "text": [
      "Rows: 1934028\n",
      "Mean Count: 41.458726554114\n",
      "Median Count: 24.0\n"
     ]
    }
   ],
   "source": [
    "#the scientific notation makes that hard to digest so let's get some simpler numbers\n",
    "print(f\"Rows: {counts_df['count'].count()}\")\n",
    "print(f\"Mean Count: {counts_df['count'].mean()}\")\n",
    "print(f\"Median Count: {counts_df['count'].median()}\")"
   ]
  },
  {
   "cell_type": "code",
   "execution_count": 21,
   "metadata": {},
   "outputs": [
    {
     "data": {
      "text/plain": [
       "0   2017-08-16\n",
       "1   2017-08-16\n",
       "2   2017-08-16\n",
       "3   2017-08-16\n",
       "4   2017-08-16\n",
       "Name: date, dtype: datetime64[ns]"
      ]
     },
     "execution_count": 21,
     "metadata": {},
     "output_type": "execute_result"
    }
   ],
   "source": [
    "#convert the 'date' column to a datetime dtype\n",
    "counts_df['date'] = pd.to_datetime(counts_df['date'])\n",
    "counts_df['date'].nsmallest()"
   ]
  },
  {
   "cell_type": "code",
   "execution_count": 22,
   "metadata": {},
   "outputs": [
    {
     "data": {
      "text/plain": [
       "\"The 'counts' file contains records from 2017-08-16 00:00:00 to 2019-03-15 00:00:00\""
      ]
     },
     "execution_count": 22,
     "metadata": {},
     "output_type": "execute_result"
    }
   ],
   "source": [
    "#Find what date range this dataset covers\n",
    "f\"The 'counts' file contains records from {counts_df['date'].min()} to {counts_df['date'].max()}\""
   ]
  },
  {
   "cell_type": "code",
   "execution_count": 23,
   "metadata": {},
   "outputs": [
    {
     "name": "stdout",
     "output_type": "stream",
     "text": [
      "183    10\n",
      "214    10\n",
      "324    10\n",
      "720    10\n",
      "798    10\n",
      "Name: count, dtype: int64\n",
      "----------------------------\n",
      "434635    5643\n",
      "389999    5313\n",
      "415974    5170\n",
      "401479    4686\n",
      "401324    4664\n",
      "Name: count, dtype: int64\n"
     ]
    }
   ],
   "source": [
    "#Check for outliers in the 'count' column by looking at largest and smallest values\n",
    "print(counts_df['count'].nsmallest(5))\n",
    "print('----------------------------')\n",
    "print(counts_df['count'].nlargest(5))"
   ]
  },
  {
   "cell_type": "code",
   "execution_count": 24,
   "metadata": {},
   "outputs": [
    {
     "data": {
      "text/plain": [
       "9999"
      ]
     },
     "execution_count": 24,
     "metadata": {},
     "output_type": "execute_result"
    }
   ],
   "source": [
    "#How many unique accounts are in this data?\n",
    "unique_accounts2 = counts_df.drop_duplicates(subset=['account'], keep='first').count()[0]\n",
    "unique_accounts2"
   ]
  },
  {
   "cell_type": "markdown",
   "metadata": {},
   "source": [
    "# Merge Datasets and explore how they fit together"
   ]
  },
  {
   "cell_type": "code",
   "execution_count": 25,
   "metadata": {},
   "outputs": [
    {
     "data": {
      "text/html": [
       "<div>\n",
       "<style scoped>\n",
       "    .dataframe tbody tr th:only-of-type {\n",
       "        vertical-align: middle;\n",
       "    }\n",
       "\n",
       "    .dataframe tbody tr th {\n",
       "        vertical-align: top;\n",
       "    }\n",
       "\n",
       "    .dataframe thead th {\n",
       "        text-align: right;\n",
       "    }\n",
       "</style>\n",
       "<table border=\"1\" class=\"dataframe\">\n",
       "  <thead>\n",
       "    <tr style=\"text-align: right;\">\n",
       "      <th></th>\n",
       "      <th>account</th>\n",
       "      <th>date</th>\n",
       "      <th>amount</th>\n",
       "      <th>count</th>\n",
       "    </tr>\n",
       "  </thead>\n",
       "  <tbody>\n",
       "    <tr>\n",
       "      <th>0</th>\n",
       "      <td>5e0a5eb5575517efdddb2799c90e2e9b</td>\n",
       "      <td>2017-08-16</td>\n",
       "      <td>15.144020</td>\n",
       "      <td>56.0</td>\n",
       "    </tr>\n",
       "    <tr>\n",
       "      <th>1</th>\n",
       "      <td>ff6cc8cadcb7457f9ddb2dd238a13733</td>\n",
       "      <td>2017-08-16</td>\n",
       "      <td>3651.412248</td>\n",
       "      <td>432.0</td>\n",
       "    </tr>\n",
       "    <tr>\n",
       "      <th>2</th>\n",
       "      <td>324a05f1f917b8a0af83a54e55a1ef63</td>\n",
       "      <td>2017-08-16</td>\n",
       "      <td>113.219243</td>\n",
       "      <td>50.0</td>\n",
       "    </tr>\n",
       "    <tr>\n",
       "      <th>3</th>\n",
       "      <td>b9abff45dc08172b556cb10b7c3c2252</td>\n",
       "      <td>2017-08-16</td>\n",
       "      <td>697.224210</td>\n",
       "      <td>135.0</td>\n",
       "    </tr>\n",
       "    <tr>\n",
       "      <th>4</th>\n",
       "      <td>e6ff738c8dd54092b5b1de683fc71dc0</td>\n",
       "      <td>2017-08-16</td>\n",
       "      <td>41.867847</td>\n",
       "      <td>76.0</td>\n",
       "    </tr>\n",
       "  </tbody>\n",
       "</table>\n",
       "</div>"
      ],
      "text/plain": [
       "                            account       date       amount  count\n",
       "0  5e0a5eb5575517efdddb2799c90e2e9b 2017-08-16    15.144020   56.0\n",
       "1  ff6cc8cadcb7457f9ddb2dd238a13733 2017-08-16  3651.412248  432.0\n",
       "2  324a05f1f917b8a0af83a54e55a1ef63 2017-08-16   113.219243   50.0\n",
       "3  b9abff45dc08172b556cb10b7c3c2252 2017-08-16   697.224210  135.0\n",
       "4  e6ff738c8dd54092b5b1de683fc71dc0 2017-08-16    41.867847   76.0"
      ]
     },
     "execution_count": 25,
     "metadata": {},
     "output_type": "execute_result"
    }
   ],
   "source": [
    "#It looks like both datasets have a dual primary key of 'account' and 'date' so we will merge on those\n",
    "#Use outer join so we can see which rows had no match\n",
    "merged_df = pd.merge(spend_df_cleaned, counts_df, on=['account', 'date'], how='outer')\n",
    "merged_df.head()"
   ]
  },
  {
   "cell_type": "code",
   "execution_count": 26,
   "metadata": {},
   "outputs": [
    {
     "data": {
      "text/plain": [
       "account    1934137\n",
       "date       1934137\n",
       "amount     1934133\n",
       "count      1934028\n",
       "dtype: int64"
      ]
     },
     "execution_count": 26,
     "metadata": {},
     "output_type": "execute_result"
    }
   ],
   "source": [
    "merged_df.count()"
   ]
  },
  {
   "cell_type": "code",
   "execution_count": 28,
   "metadata": {},
   "outputs": [
    {
     "data": {
      "text/plain": [
       "10001"
      ]
     },
     "execution_count": 28,
     "metadata": {},
     "output_type": "execute_result"
    }
   ],
   "source": [
    "#How many unique accounts between both datasets?\n",
    "merged_df.drop_duplicates(subset=['account'], keep='first').count()[0]"
   ]
  },
  {
   "cell_type": "code",
   "execution_count": 29,
   "metadata": {},
   "outputs": [
    {
     "data": {
      "text/plain": [
       "account      0\n",
       "date         0\n",
       "amount       4\n",
       "count      109\n",
       "dtype: int64"
      ]
     },
     "execution_count": 29,
     "metadata": {},
     "output_type": "execute_result"
    }
   ],
   "source": [
    "#Check for NaN values\n",
    "merged_df.isna().sum()"
   ]
  },
  {
   "cell_type": "code",
   "execution_count": 30,
   "metadata": {},
   "outputs": [
    {
     "data": {
      "text/html": [
       "<div>\n",
       "<style scoped>\n",
       "    .dataframe tbody tr th:only-of-type {\n",
       "        vertical-align: middle;\n",
       "    }\n",
       "\n",
       "    .dataframe tbody tr th {\n",
       "        vertical-align: top;\n",
       "    }\n",
       "\n",
       "    .dataframe thead th {\n",
       "        text-align: right;\n",
       "    }\n",
       "</style>\n",
       "<table border=\"1\" class=\"dataframe\">\n",
       "  <thead>\n",
       "    <tr style=\"text-align: right;\">\n",
       "      <th></th>\n",
       "      <th>account</th>\n",
       "      <th>date</th>\n",
       "      <th>amount</th>\n",
       "      <th>count</th>\n",
       "    </tr>\n",
       "  </thead>\n",
       "  <tbody>\n",
       "    <tr>\n",
       "      <th>328532</th>\n",
       "      <td>04aa55b1463f98f26d220ffb618b969b</td>\n",
       "      <td>2018-10-07</td>\n",
       "      <td>152.218665</td>\n",
       "      <td>NaN</td>\n",
       "    </tr>\n",
       "    <tr>\n",
       "      <th>387162</th>\n",
       "      <td>04aa55b1463f98f26d220ffb618b969b</td>\n",
       "      <td>2018-11-06</td>\n",
       "      <td>54.132141</td>\n",
       "      <td>NaN</td>\n",
       "    </tr>\n",
       "    <tr>\n",
       "      <th>422584</th>\n",
       "      <td>04aa55b1463f98f26d220ffb618b969b</td>\n",
       "      <td>2018-11-14</td>\n",
       "      <td>665.369130</td>\n",
       "      <td>NaN</td>\n",
       "    </tr>\n",
       "    <tr>\n",
       "      <th>438909</th>\n",
       "      <td>04aa55b1463f98f26d220ffb618b969b</td>\n",
       "      <td>2018-12-05</td>\n",
       "      <td>54.190954</td>\n",
       "      <td>NaN</td>\n",
       "    </tr>\n",
       "    <tr>\n",
       "      <th>441643</th>\n",
       "      <td>04aa55b1463f98f26d220ffb618b969b</td>\n",
       "      <td>2018-11-26</td>\n",
       "      <td>13.351277</td>\n",
       "      <td>NaN</td>\n",
       "    </tr>\n",
       "    <tr>\n",
       "      <th>448395</th>\n",
       "      <td>04aa55b1463f98f26d220ffb618b969b</td>\n",
       "      <td>2018-12-07</td>\n",
       "      <td>153.162176</td>\n",
       "      <td>NaN</td>\n",
       "    </tr>\n",
       "    <tr>\n",
       "      <th>449510</th>\n",
       "      <td>04aa55b1463f98f26d220ffb618b969b</td>\n",
       "      <td>2018-12-13</td>\n",
       "      <td>63.522312</td>\n",
       "      <td>NaN</td>\n",
       "    </tr>\n",
       "    <tr>\n",
       "      <th>510397</th>\n",
       "      <td>04aa55b1463f98f26d220ffb618b969b</td>\n",
       "      <td>2019-02-05</td>\n",
       "      <td>83.585540</td>\n",
       "      <td>NaN</td>\n",
       "    </tr>\n",
       "    <tr>\n",
       "      <th>515736</th>\n",
       "      <td>04aa55b1463f98f26d220ffb618b969b</td>\n",
       "      <td>2019-01-25</td>\n",
       "      <td>63.522312</td>\n",
       "      <td>NaN</td>\n",
       "    </tr>\n",
       "    <tr>\n",
       "      <th>533030</th>\n",
       "      <td>04aa55b1463f98f26d220ffb618b969b</td>\n",
       "      <td>2019-02-06</td>\n",
       "      <td>211.309084</td>\n",
       "      <td>NaN</td>\n",
       "    </tr>\n",
       "    <tr>\n",
       "      <th>533537</th>\n",
       "      <td>04aa55b1463f98f26d220ffb618b969b</td>\n",
       "      <td>2019-02-07</td>\n",
       "      <td>2.703628</td>\n",
       "      <td>NaN</td>\n",
       "    </tr>\n",
       "    <tr>\n",
       "      <th>540585</th>\n",
       "      <td>04aa55b1463f98f26d220ffb618b969b</td>\n",
       "      <td>2019-02-11</td>\n",
       "      <td>84.621645</td>\n",
       "      <td>NaN</td>\n",
       "    </tr>\n",
       "    <tr>\n",
       "      <th>547297</th>\n",
       "      <td>04aa55b1463f98f26d220ffb618b969b</td>\n",
       "      <td>2019-02-04</td>\n",
       "      <td>135.956663</td>\n",
       "      <td>NaN</td>\n",
       "    </tr>\n",
       "    <tr>\n",
       "      <th>551796</th>\n",
       "      <td>04aa55b1463f98f26d220ffb618b969b</td>\n",
       "      <td>2019-02-08</td>\n",
       "      <td>20.353974</td>\n",
       "      <td>NaN</td>\n",
       "    </tr>\n",
       "    <tr>\n",
       "      <th>574309</th>\n",
       "      <td>04aa55b1463f98f26d220ffb618b969b</td>\n",
       "      <td>2019-02-21</td>\n",
       "      <td>171.416568</td>\n",
       "      <td>NaN</td>\n",
       "    </tr>\n",
       "    <tr>\n",
       "      <th>595341</th>\n",
       "      <td>04aa55b1463f98f26d220ffb618b969b</td>\n",
       "      <td>2019-02-18</td>\n",
       "      <td>188.360598</td>\n",
       "      <td>NaN</td>\n",
       "    </tr>\n",
       "    <tr>\n",
       "      <th>621176</th>\n",
       "      <td>04aa55b1463f98f26d220ffb618b969b</td>\n",
       "      <td>2019-03-13</td>\n",
       "      <td>338.644642</td>\n",
       "      <td>NaN</td>\n",
       "    </tr>\n",
       "    <tr>\n",
       "      <th>708484</th>\n",
       "      <td>04aa55b1463f98f26d220ffb618b969b</td>\n",
       "      <td>2018-09-18</td>\n",
       "      <td>130.129124</td>\n",
       "      <td>NaN</td>\n",
       "    </tr>\n",
       "    <tr>\n",
       "      <th>729678</th>\n",
       "      <td>04aa55b1463f98f26d220ffb618b969b</td>\n",
       "      <td>2018-11-11</td>\n",
       "      <td>256.242340</td>\n",
       "      <td>NaN</td>\n",
       "    </tr>\n",
       "    <tr>\n",
       "      <th>734341</th>\n",
       "      <td>04aa55b1463f98f26d220ffb618b969b</td>\n",
       "      <td>2018-10-10</td>\n",
       "      <td>80.937003</td>\n",
       "      <td>NaN</td>\n",
       "    </tr>\n",
       "    <tr>\n",
       "      <th>734443</th>\n",
       "      <td>04aa55b1463f98f26d220ffb618b969b</td>\n",
       "      <td>2018-10-11</td>\n",
       "      <td>63.522312</td>\n",
       "      <td>NaN</td>\n",
       "    </tr>\n",
       "    <tr>\n",
       "      <th>757495</th>\n",
       "      <td>04aa55b1463f98f26d220ffb618b969b</td>\n",
       "      <td>2019-02-02</td>\n",
       "      <td>39.311127</td>\n",
       "      <td>NaN</td>\n",
       "    </tr>\n",
       "    <tr>\n",
       "      <th>778449</th>\n",
       "      <td>04aa55b1463f98f26d220ffb618b969b</td>\n",
       "      <td>2018-11-28</td>\n",
       "      <td>140.768184</td>\n",
       "      <td>NaN</td>\n",
       "    </tr>\n",
       "    <tr>\n",
       "      <th>796124</th>\n",
       "      <td>04aa55b1463f98f26d220ffb618b969b</td>\n",
       "      <td>2019-01-05</td>\n",
       "      <td>426.391684</td>\n",
       "      <td>NaN</td>\n",
       "    </tr>\n",
       "    <tr>\n",
       "      <th>796603</th>\n",
       "      <td>04aa55b1463f98f26d220ffb618b969b</td>\n",
       "      <td>2019-01-12</td>\n",
       "      <td>92.344207</td>\n",
       "      <td>NaN</td>\n",
       "    </tr>\n",
       "    <tr>\n",
       "      <th>801511</th>\n",
       "      <td>04aa55b1463f98f26d220ffb618b969b</td>\n",
       "      <td>2019-03-07</td>\n",
       "      <td>143.846387</td>\n",
       "      <td>NaN</td>\n",
       "    </tr>\n",
       "    <tr>\n",
       "      <th>802547</th>\n",
       "      <td>04aa55b1463f98f26d220ffb618b969b</td>\n",
       "      <td>2019-01-11</td>\n",
       "      <td>63.522312</td>\n",
       "      <td>NaN</td>\n",
       "    </tr>\n",
       "    <tr>\n",
       "      <th>819427</th>\n",
       "      <td>04aa55b1463f98f26d220ffb618b969b</td>\n",
       "      <td>2019-01-01</td>\n",
       "      <td>85.483601</td>\n",
       "      <td>NaN</td>\n",
       "    </tr>\n",
       "    <tr>\n",
       "      <th>820639</th>\n",
       "      <td>04aa55b1463f98f26d220ffb618b969b</td>\n",
       "      <td>2019-01-16</td>\n",
       "      <td>55.625107</td>\n",
       "      <td>NaN</td>\n",
       "    </tr>\n",
       "    <tr>\n",
       "      <th>847847</th>\n",
       "      <td>04aa55b1463f98f26d220ffb618b969b</td>\n",
       "      <td>2019-02-12</td>\n",
       "      <td>82.985782</td>\n",
       "      <td>NaN</td>\n",
       "    </tr>\n",
       "    <tr>\n",
       "      <th>...</th>\n",
       "      <td>...</td>\n",
       "      <td>...</td>\n",
       "      <td>...</td>\n",
       "      <td>...</td>\n",
       "    </tr>\n",
       "    <tr>\n",
       "      <th>1729407</th>\n",
       "      <td>04aa55b1463f98f26d220ffb618b969b</td>\n",
       "      <td>2018-12-12</td>\n",
       "      <td>76.182402</td>\n",
       "      <td>NaN</td>\n",
       "    </tr>\n",
       "    <tr>\n",
       "      <th>1731700</th>\n",
       "      <td>04aa55b1463f98f26d220ffb618b969b</td>\n",
       "      <td>2019-01-14</td>\n",
       "      <td>129.311007</td>\n",
       "      <td>NaN</td>\n",
       "    </tr>\n",
       "    <tr>\n",
       "      <th>1735528</th>\n",
       "      <td>04aa55b1463f98f26d220ffb618b969b</td>\n",
       "      <td>2018-12-21</td>\n",
       "      <td>197.694206</td>\n",
       "      <td>NaN</td>\n",
       "    </tr>\n",
       "    <tr>\n",
       "      <th>1775969</th>\n",
       "      <td>04aa55b1463f98f26d220ffb618b969b</td>\n",
       "      <td>2018-12-17</td>\n",
       "      <td>23.450522</td>\n",
       "      <td>NaN</td>\n",
       "    </tr>\n",
       "    <tr>\n",
       "      <th>1777990</th>\n",
       "      <td>04aa55b1463f98f26d220ffb618b969b</td>\n",
       "      <td>2019-01-15</td>\n",
       "      <td>23.450522</td>\n",
       "      <td>NaN</td>\n",
       "    </tr>\n",
       "    <tr>\n",
       "      <th>1801752</th>\n",
       "      <td>04aa55b1463f98f26d220ffb618b969b</td>\n",
       "      <td>2018-10-20</td>\n",
       "      <td>173.814692</td>\n",
       "      <td>NaN</td>\n",
       "    </tr>\n",
       "    <tr>\n",
       "      <th>1823980</th>\n",
       "      <td>04aa55b1463f98f26d220ffb618b969b</td>\n",
       "      <td>2018-12-30</td>\n",
       "      <td>298.525407</td>\n",
       "      <td>NaN</td>\n",
       "    </tr>\n",
       "    <tr>\n",
       "      <th>1835542</th>\n",
       "      <td>04aa55b1463f98f26d220ffb618b969b</td>\n",
       "      <td>2018-09-17</td>\n",
       "      <td>9.868445</td>\n",
       "      <td>NaN</td>\n",
       "    </tr>\n",
       "    <tr>\n",
       "      <th>1866731</th>\n",
       "      <td>04aa55b1463f98f26d220ffb618b969b</td>\n",
       "      <td>2019-02-17</td>\n",
       "      <td>35.063581</td>\n",
       "      <td>NaN</td>\n",
       "    </tr>\n",
       "    <tr>\n",
       "      <th>1872836</th>\n",
       "      <td>04aa55b1463f98f26d220ffb618b969b</td>\n",
       "      <td>2018-12-28</td>\n",
       "      <td>99.877570</td>\n",
       "      <td>NaN</td>\n",
       "    </tr>\n",
       "    <tr>\n",
       "      <th>1875865</th>\n",
       "      <td>04aa55b1463f98f26d220ffb618b969b</td>\n",
       "      <td>2019-02-13</td>\n",
       "      <td>142.468075</td>\n",
       "      <td>NaN</td>\n",
       "    </tr>\n",
       "    <tr>\n",
       "      <th>1880164</th>\n",
       "      <td>04aa55b1463f98f26d220ffb618b969b</td>\n",
       "      <td>2019-02-09</td>\n",
       "      <td>69.694843</td>\n",
       "      <td>NaN</td>\n",
       "    </tr>\n",
       "    <tr>\n",
       "      <th>1880567</th>\n",
       "      <td>04aa55b1463f98f26d220ffb618b969b</td>\n",
       "      <td>2019-02-15</td>\n",
       "      <td>123.580359</td>\n",
       "      <td>NaN</td>\n",
       "    </tr>\n",
       "    <tr>\n",
       "      <th>1882260</th>\n",
       "      <td>04aa55b1463f98f26d220ffb618b969b</td>\n",
       "      <td>2019-03-10</td>\n",
       "      <td>163.940959</td>\n",
       "      <td>NaN</td>\n",
       "    </tr>\n",
       "    <tr>\n",
       "      <th>1883119</th>\n",
       "      <td>04aa55b1463f98f26d220ffb618b969b</td>\n",
       "      <td>2018-10-01</td>\n",
       "      <td>63.522312</td>\n",
       "      <td>NaN</td>\n",
       "    </tr>\n",
       "    <tr>\n",
       "      <th>1884072</th>\n",
       "      <td>04aa55b1463f98f26d220ffb618b969b</td>\n",
       "      <td>2018-10-28</td>\n",
       "      <td>63.522312</td>\n",
       "      <td>NaN</td>\n",
       "    </tr>\n",
       "    <tr>\n",
       "      <th>1886676</th>\n",
       "      <td>04aa55b1463f98f26d220ffb618b969b</td>\n",
       "      <td>2019-02-20</td>\n",
       "      <td>492.571696</td>\n",
       "      <td>NaN</td>\n",
       "    </tr>\n",
       "    <tr>\n",
       "      <th>1903526</th>\n",
       "      <td>04aa55b1463f98f26d220ffb618b969b</td>\n",
       "      <td>2019-02-14</td>\n",
       "      <td>188.503820</td>\n",
       "      <td>NaN</td>\n",
       "    </tr>\n",
       "    <tr>\n",
       "      <th>1919281</th>\n",
       "      <td>04aa55b1463f98f26d220ffb618b969b</td>\n",
       "      <td>2018-10-21</td>\n",
       "      <td>82.663829</td>\n",
       "      <td>NaN</td>\n",
       "    </tr>\n",
       "    <tr>\n",
       "      <th>1919714</th>\n",
       "      <td>04aa55b1463f98f26d220ffb618b969b</td>\n",
       "      <td>2018-11-03</td>\n",
       "      <td>108.545259</td>\n",
       "      <td>NaN</td>\n",
       "    </tr>\n",
       "    <tr>\n",
       "      <th>1919875</th>\n",
       "      <td>04aa55b1463f98f26d220ffb618b969b</td>\n",
       "      <td>2018-11-08</td>\n",
       "      <td>82.985782</td>\n",
       "      <td>NaN</td>\n",
       "    </tr>\n",
       "    <tr>\n",
       "      <th>1923789</th>\n",
       "      <td>04aa55b1463f98f26d220ffb618b969b</td>\n",
       "      <td>2019-01-02</td>\n",
       "      <td>536.502347</td>\n",
       "      <td>NaN</td>\n",
       "    </tr>\n",
       "    <tr>\n",
       "      <th>1928202</th>\n",
       "      <td>04aa55b1463f98f26d220ffb618b969b</td>\n",
       "      <td>2018-12-20</td>\n",
       "      <td>256.799660</td>\n",
       "      <td>NaN</td>\n",
       "    </tr>\n",
       "    <tr>\n",
       "      <th>1928782</th>\n",
       "      <td>04aa55b1463f98f26d220ffb618b969b</td>\n",
       "      <td>2019-01-07</td>\n",
       "      <td>13.351277</td>\n",
       "      <td>NaN</td>\n",
       "    </tr>\n",
       "    <tr>\n",
       "      <th>1934129</th>\n",
       "      <td>9624306955fe5efaeb3b718c303f2</td>\n",
       "      <td>2019-03-15</td>\n",
       "      <td>12.907112</td>\n",
       "      <td>NaN</td>\n",
       "    </tr>\n",
       "    <tr>\n",
       "      <th>1934132</th>\n",
       "      <td>04aa55b1463f98f26d220ffb618b969b</td>\n",
       "      <td>2019-03-15</td>\n",
       "      <td>35.063581</td>\n",
       "      <td>NaN</td>\n",
       "    </tr>\n",
       "    <tr>\n",
       "      <th>1934133</th>\n",
       "      <td>a04e063493c55bc6cecd9056712e9e47</td>\n",
       "      <td>2017-08-16</td>\n",
       "      <td>NaN</td>\n",
       "      <td>180.0</td>\n",
       "    </tr>\n",
       "    <tr>\n",
       "      <th>1934134</th>\n",
       "      <td>ab1317dd5bf062ab4df87248d4ed5bfd</td>\n",
       "      <td>2018-09-27</td>\n",
       "      <td>NaN</td>\n",
       "      <td>20.0</td>\n",
       "    </tr>\n",
       "    <tr>\n",
       "      <th>1934135</th>\n",
       "      <td>ca8857e721c02becf6d436ef3623b65a</td>\n",
       "      <td>2019-03-15</td>\n",
       "      <td>NaN</td>\n",
       "      <td>13.0</td>\n",
       "    </tr>\n",
       "    <tr>\n",
       "      <th>1934136</th>\n",
       "      <td>404a1cac5f1d2bd292ece1e435b4f0d3</td>\n",
       "      <td>2019-03-15</td>\n",
       "      <td>NaN</td>\n",
       "      <td>17.0</td>\n",
       "    </tr>\n",
       "  </tbody>\n",
       "</table>\n",
       "<p>113 rows × 4 columns</p>\n",
       "</div>"
      ],
      "text/plain": [
       "                                  account       date      amount  count\n",
       "328532   04aa55b1463f98f26d220ffb618b969b 2018-10-07  152.218665    NaN\n",
       "387162   04aa55b1463f98f26d220ffb618b969b 2018-11-06   54.132141    NaN\n",
       "422584   04aa55b1463f98f26d220ffb618b969b 2018-11-14  665.369130    NaN\n",
       "438909   04aa55b1463f98f26d220ffb618b969b 2018-12-05   54.190954    NaN\n",
       "441643   04aa55b1463f98f26d220ffb618b969b 2018-11-26   13.351277    NaN\n",
       "448395   04aa55b1463f98f26d220ffb618b969b 2018-12-07  153.162176    NaN\n",
       "449510   04aa55b1463f98f26d220ffb618b969b 2018-12-13   63.522312    NaN\n",
       "510397   04aa55b1463f98f26d220ffb618b969b 2019-02-05   83.585540    NaN\n",
       "515736   04aa55b1463f98f26d220ffb618b969b 2019-01-25   63.522312    NaN\n",
       "533030   04aa55b1463f98f26d220ffb618b969b 2019-02-06  211.309084    NaN\n",
       "533537   04aa55b1463f98f26d220ffb618b969b 2019-02-07    2.703628    NaN\n",
       "540585   04aa55b1463f98f26d220ffb618b969b 2019-02-11   84.621645    NaN\n",
       "547297   04aa55b1463f98f26d220ffb618b969b 2019-02-04  135.956663    NaN\n",
       "551796   04aa55b1463f98f26d220ffb618b969b 2019-02-08   20.353974    NaN\n",
       "574309   04aa55b1463f98f26d220ffb618b969b 2019-02-21  171.416568    NaN\n",
       "595341   04aa55b1463f98f26d220ffb618b969b 2019-02-18  188.360598    NaN\n",
       "621176   04aa55b1463f98f26d220ffb618b969b 2019-03-13  338.644642    NaN\n",
       "708484   04aa55b1463f98f26d220ffb618b969b 2018-09-18  130.129124    NaN\n",
       "729678   04aa55b1463f98f26d220ffb618b969b 2018-11-11  256.242340    NaN\n",
       "734341   04aa55b1463f98f26d220ffb618b969b 2018-10-10   80.937003    NaN\n",
       "734443   04aa55b1463f98f26d220ffb618b969b 2018-10-11   63.522312    NaN\n",
       "757495   04aa55b1463f98f26d220ffb618b969b 2019-02-02   39.311127    NaN\n",
       "778449   04aa55b1463f98f26d220ffb618b969b 2018-11-28  140.768184    NaN\n",
       "796124   04aa55b1463f98f26d220ffb618b969b 2019-01-05  426.391684    NaN\n",
       "796603   04aa55b1463f98f26d220ffb618b969b 2019-01-12   92.344207    NaN\n",
       "801511   04aa55b1463f98f26d220ffb618b969b 2019-03-07  143.846387    NaN\n",
       "802547   04aa55b1463f98f26d220ffb618b969b 2019-01-11   63.522312    NaN\n",
       "819427   04aa55b1463f98f26d220ffb618b969b 2019-01-01   85.483601    NaN\n",
       "820639   04aa55b1463f98f26d220ffb618b969b 2019-01-16   55.625107    NaN\n",
       "847847   04aa55b1463f98f26d220ffb618b969b 2019-02-12   82.985782    NaN\n",
       "...                                   ...        ...         ...    ...\n",
       "1729407  04aa55b1463f98f26d220ffb618b969b 2018-12-12   76.182402    NaN\n",
       "1731700  04aa55b1463f98f26d220ffb618b969b 2019-01-14  129.311007    NaN\n",
       "1735528  04aa55b1463f98f26d220ffb618b969b 2018-12-21  197.694206    NaN\n",
       "1775969  04aa55b1463f98f26d220ffb618b969b 2018-12-17   23.450522    NaN\n",
       "1777990  04aa55b1463f98f26d220ffb618b969b 2019-01-15   23.450522    NaN\n",
       "1801752  04aa55b1463f98f26d220ffb618b969b 2018-10-20  173.814692    NaN\n",
       "1823980  04aa55b1463f98f26d220ffb618b969b 2018-12-30  298.525407    NaN\n",
       "1835542  04aa55b1463f98f26d220ffb618b969b 2018-09-17    9.868445    NaN\n",
       "1866731  04aa55b1463f98f26d220ffb618b969b 2019-02-17   35.063581    NaN\n",
       "1872836  04aa55b1463f98f26d220ffb618b969b 2018-12-28   99.877570    NaN\n",
       "1875865  04aa55b1463f98f26d220ffb618b969b 2019-02-13  142.468075    NaN\n",
       "1880164  04aa55b1463f98f26d220ffb618b969b 2019-02-09   69.694843    NaN\n",
       "1880567  04aa55b1463f98f26d220ffb618b969b 2019-02-15  123.580359    NaN\n",
       "1882260  04aa55b1463f98f26d220ffb618b969b 2019-03-10  163.940959    NaN\n",
       "1883119  04aa55b1463f98f26d220ffb618b969b 2018-10-01   63.522312    NaN\n",
       "1884072  04aa55b1463f98f26d220ffb618b969b 2018-10-28   63.522312    NaN\n",
       "1886676  04aa55b1463f98f26d220ffb618b969b 2019-02-20  492.571696    NaN\n",
       "1903526  04aa55b1463f98f26d220ffb618b969b 2019-02-14  188.503820    NaN\n",
       "1919281  04aa55b1463f98f26d220ffb618b969b 2018-10-21   82.663829    NaN\n",
       "1919714  04aa55b1463f98f26d220ffb618b969b 2018-11-03  108.545259    NaN\n",
       "1919875  04aa55b1463f98f26d220ffb618b969b 2018-11-08   82.985782    NaN\n",
       "1923789  04aa55b1463f98f26d220ffb618b969b 2019-01-02  536.502347    NaN\n",
       "1928202  04aa55b1463f98f26d220ffb618b969b 2018-12-20  256.799660    NaN\n",
       "1928782  04aa55b1463f98f26d220ffb618b969b 2019-01-07   13.351277    NaN\n",
       "1934129     9624306955fe5efaeb3b718c303f2 2019-03-15   12.907112    NaN\n",
       "1934132  04aa55b1463f98f26d220ffb618b969b 2019-03-15   35.063581    NaN\n",
       "1934133  a04e063493c55bc6cecd9056712e9e47 2017-08-16         NaN  180.0\n",
       "1934134  ab1317dd5bf062ab4df87248d4ed5bfd 2018-09-27         NaN   20.0\n",
       "1934135  ca8857e721c02becf6d436ef3623b65a 2019-03-15         NaN   13.0\n",
       "1934136  404a1cac5f1d2bd292ece1e435b4f0d3 2019-03-15         NaN   17.0\n",
       "\n",
       "[113 rows x 4 columns]"
      ]
     },
     "execution_count": 30,
     "metadata": {},
     "output_type": "execute_result"
    }
   ],
   "source": [
    "#Create a df for exploring rows with NaNs to see if we can tell why\n",
    "nulls_df = merged_df[merged_df.isnull().any(axis=1)]\n",
    "nulls_df"
   ]
  },
  {
   "cell_type": "code",
   "execution_count": 31,
   "metadata": {},
   "outputs": [
    {
     "data": {
      "text/html": [
       "<div>\n",
       "<style scoped>\n",
       "    .dataframe tbody tr th:only-of-type {\n",
       "        vertical-align: middle;\n",
       "    }\n",
       "\n",
       "    .dataframe tbody tr th {\n",
       "        vertical-align: top;\n",
       "    }\n",
       "\n",
       "    .dataframe thead th {\n",
       "        text-align: right;\n",
       "    }\n",
       "</style>\n",
       "<table border=\"1\" class=\"dataframe\">\n",
       "  <thead>\n",
       "    <tr style=\"text-align: right;\">\n",
       "      <th></th>\n",
       "      <th>account</th>\n",
       "      <th>date</th>\n",
       "      <th>count</th>\n",
       "    </tr>\n",
       "  </thead>\n",
       "  <tbody>\n",
       "  </tbody>\n",
       "</table>\n",
       "</div>"
      ],
      "text/plain": [
       "Empty DataFrame\n",
       "Columns: [account, date, count]\n",
       "Index: []"
      ]
     },
     "execution_count": 31,
     "metadata": {},
     "output_type": "execute_result"
    }
   ],
   "source": [
    "#check whether account '04aa55b1463f98f26d220ffb618b969b' ever appears in the counts data\n",
    "check_acct = counts_df.loc[counts_df['account']=='04aa55b1463f98f26d220ffb618b969b']\n",
    "check_acct"
   ]
  },
  {
   "cell_type": "code",
   "execution_count": 32,
   "metadata": {},
   "outputs": [
    {
     "data": {
      "text/html": [
       "<div>\n",
       "<style scoped>\n",
       "    .dataframe tbody tr th:only-of-type {\n",
       "        vertical-align: middle;\n",
       "    }\n",
       "\n",
       "    .dataframe tbody tr th {\n",
       "        vertical-align: top;\n",
       "    }\n",
       "\n",
       "    .dataframe thead th {\n",
       "        text-align: right;\n",
       "    }\n",
       "</style>\n",
       "<table border=\"1\" class=\"dataframe\">\n",
       "  <thead>\n",
       "    <tr style=\"text-align: right;\">\n",
       "      <th></th>\n",
       "      <th>account</th>\n",
       "      <th>date</th>\n",
       "      <th>amount</th>\n",
       "      <th>count</th>\n",
       "    </tr>\n",
       "  </thead>\n",
       "  <tbody>\n",
       "    <tr>\n",
       "      <th>0</th>\n",
       "      <td>5e0a5eb5575517efdddb2799c90e2e9b</td>\n",
       "      <td>2017-08-16</td>\n",
       "      <td>15.144020</td>\n",
       "      <td>56.0</td>\n",
       "    </tr>\n",
       "    <tr>\n",
       "      <th>1</th>\n",
       "      <td>ff6cc8cadcb7457f9ddb2dd238a13733</td>\n",
       "      <td>2017-08-16</td>\n",
       "      <td>3651.412248</td>\n",
       "      <td>432.0</td>\n",
       "    </tr>\n",
       "    <tr>\n",
       "      <th>2</th>\n",
       "      <td>324a05f1f917b8a0af83a54e55a1ef63</td>\n",
       "      <td>2017-08-16</td>\n",
       "      <td>113.219243</td>\n",
       "      <td>50.0</td>\n",
       "    </tr>\n",
       "    <tr>\n",
       "      <th>3</th>\n",
       "      <td>b9abff45dc08172b556cb10b7c3c2252</td>\n",
       "      <td>2017-08-16</td>\n",
       "      <td>697.224210</td>\n",
       "      <td>135.0</td>\n",
       "    </tr>\n",
       "    <tr>\n",
       "      <th>4</th>\n",
       "      <td>e6ff738c8dd54092b5b1de683fc71dc0</td>\n",
       "      <td>2017-08-16</td>\n",
       "      <td>41.867847</td>\n",
       "      <td>76.0</td>\n",
       "    </tr>\n",
       "  </tbody>\n",
       "</table>\n",
       "</div>"
      ],
      "text/plain": [
       "                            account       date       amount  count\n",
       "0  5e0a5eb5575517efdddb2799c90e2e9b 2017-08-16    15.144020   56.0\n",
       "1  ff6cc8cadcb7457f9ddb2dd238a13733 2017-08-16  3651.412248  432.0\n",
       "2  324a05f1f917b8a0af83a54e55a1ef63 2017-08-16   113.219243   50.0\n",
       "3  b9abff45dc08172b556cb10b7c3c2252 2017-08-16   697.224210  135.0\n",
       "4  e6ff738c8dd54092b5b1de683fc71dc0 2017-08-16    41.867847   76.0"
      ]
     },
     "execution_count": 32,
     "metadata": {},
     "output_type": "execute_result"
    }
   ],
   "source": [
    "#108 of the NaNs occured because acct '04aa55b1463f98f26d220ffb618b969b' only appeared in the spend dataset\n",
    "#1 of the NaNs occured because row 1934129 is missing 2 digits in acct number '9624306955fe5efaeb3b718c303f2'\n",
    "#4 of the NaNs appear to be one-off rows that had no match in both datasets\n",
    "#In any case, dropping NaNs will aleviate these issues while losing relatively little data:\n",
    "merged_df_cleaned = merged_df.dropna()\n",
    "merged_df_cleaned.head()"
   ]
  },
  {
   "cell_type": "code",
   "execution_count": 33,
   "metadata": {},
   "outputs": [
    {
     "data": {
      "text/plain": [
       "9999"
      ]
     },
     "execution_count": 33,
     "metadata": {},
     "output_type": "execute_result"
    }
   ],
   "source": [
    "#How many unique accounts are there after droping rows with NaNs?\n",
    "merged_df_cleaned.drop_duplicates(subset=['account'], keep='first').count()[0]"
   ]
  },
  {
   "cell_type": "code",
   "execution_count": 34,
   "metadata": {},
   "outputs": [],
   "source": [
    "#This^ lines up with findings above"
   ]
  },
  {
   "cell_type": "code",
   "execution_count": 35,
   "metadata": {},
   "outputs": [],
   "source": [
    "#Export the merged and cleaned dataset for future analysis\n",
    "merged_df_cleaned.to_csv('accounts_data_merged.csv', index=False)"
   ]
  }
 ],
 "metadata": {
  "kernelspec": {
   "display_name": "Python 3",
   "language": "python",
   "name": "python3"
  },
  "language_info": {
   "codemirror_mode": {
    "name": "ipython",
    "version": 3
   },
   "file_extension": ".py",
   "mimetype": "text/x-python",
   "name": "python",
   "nbconvert_exporter": "python",
   "pygments_lexer": "ipython3",
   "version": "3.7.1"
  }
 },
 "nbformat": 4,
 "nbformat_minor": 2
}
