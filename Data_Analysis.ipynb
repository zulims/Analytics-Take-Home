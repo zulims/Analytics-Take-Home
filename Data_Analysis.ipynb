{
 "cells": [
  {
   "cell_type": "code",
   "execution_count": 1,
   "metadata": {},
   "outputs": [],
   "source": [
    "import pandas as pd\n",
    "import datetime\n",
    "import matplotlib.pyplot as plt\n",
    "import matplotlib.patches as mpatches"
   ]
  },
  {
   "cell_type": "code",
   "execution_count": 2,
   "metadata": {},
   "outputs": [
    {
     "data": {
      "text/html": [
       "<div>\n",
       "<style scoped>\n",
       "    .dataframe tbody tr th:only-of-type {\n",
       "        vertical-align: middle;\n",
       "    }\n",
       "\n",
       "    .dataframe tbody tr th {\n",
       "        vertical-align: top;\n",
       "    }\n",
       "\n",
       "    .dataframe thead th {\n",
       "        text-align: right;\n",
       "    }\n",
       "</style>\n",
       "<table border=\"1\" class=\"dataframe\">\n",
       "  <thead>\n",
       "    <tr style=\"text-align: right;\">\n",
       "      <th></th>\n",
       "      <th>account</th>\n",
       "      <th>date</th>\n",
       "      <th>amount</th>\n",
       "      <th>count</th>\n",
       "    </tr>\n",
       "  </thead>\n",
       "  <tbody>\n",
       "    <tr>\n",
       "      <th>0</th>\n",
       "      <td>5e0a5eb5575517efdddb2799c90e2e9b</td>\n",
       "      <td>2017-08-16</td>\n",
       "      <td>15.144020</td>\n",
       "      <td>56.0</td>\n",
       "    </tr>\n",
       "    <tr>\n",
       "      <th>1</th>\n",
       "      <td>ff6cc8cadcb7457f9ddb2dd238a13733</td>\n",
       "      <td>2017-08-16</td>\n",
       "      <td>3651.412248</td>\n",
       "      <td>432.0</td>\n",
       "    </tr>\n",
       "    <tr>\n",
       "      <th>2</th>\n",
       "      <td>324a05f1f917b8a0af83a54e55a1ef63</td>\n",
       "      <td>2017-08-16</td>\n",
       "      <td>113.219243</td>\n",
       "      <td>50.0</td>\n",
       "    </tr>\n",
       "    <tr>\n",
       "      <th>3</th>\n",
       "      <td>b9abff45dc08172b556cb10b7c3c2252</td>\n",
       "      <td>2017-08-16</td>\n",
       "      <td>697.224210</td>\n",
       "      <td>135.0</td>\n",
       "    </tr>\n",
       "    <tr>\n",
       "      <th>4</th>\n",
       "      <td>e6ff738c8dd54092b5b1de683fc71dc0</td>\n",
       "      <td>2017-08-16</td>\n",
       "      <td>41.867847</td>\n",
       "      <td>76.0</td>\n",
       "    </tr>\n",
       "  </tbody>\n",
       "</table>\n",
       "</div>"
      ],
      "text/plain": [
       "                            account        date       amount  count\n",
       "0  5e0a5eb5575517efdddb2799c90e2e9b  2017-08-16    15.144020   56.0\n",
       "1  ff6cc8cadcb7457f9ddb2dd238a13733  2017-08-16  3651.412248  432.0\n",
       "2  324a05f1f917b8a0af83a54e55a1ef63  2017-08-16   113.219243   50.0\n",
       "3  b9abff45dc08172b556cb10b7c3c2252  2017-08-16   697.224210  135.0\n",
       "4  e6ff738c8dd54092b5b1de683fc71dc0  2017-08-16    41.867847   76.0"
      ]
     },
     "execution_count": 2,
     "metadata": {},
     "output_type": "execute_result"
    }
   ],
   "source": [
    "#Import the 'accounts_data_merged' file (created in Data_Exploration) as a Pandas dataframe\n",
    "accounts_df = pd.read_csv('accounts_data_merged.csv.gz', compression='gzip', header=0, sep=',', quotechar='\"')\n",
    "accounts_df.head()"
   ]
  },
  {
   "cell_type": "markdown",
   "metadata": {},
   "source": [
    "# 6) How are accounts distributed by average transaction size?"
   ]
  },
  {
   "cell_type": "code",
   "execution_count": 3,
   "metadata": {},
   "outputs": [
    {
     "data": {
      "text/html": [
       "<div>\n",
       "<style scoped>\n",
       "    .dataframe tbody tr th:only-of-type {\n",
       "        vertical-align: middle;\n",
       "    }\n",
       "\n",
       "    .dataframe tbody tr th {\n",
       "        vertical-align: top;\n",
       "    }\n",
       "\n",
       "    .dataframe thead th {\n",
       "        text-align: right;\n",
       "    }\n",
       "</style>\n",
       "<table border=\"1\" class=\"dataframe\">\n",
       "  <thead>\n",
       "    <tr style=\"text-align: right;\">\n",
       "      <th></th>\n",
       "      <th>amount</th>\n",
       "      <th>count</th>\n",
       "    </tr>\n",
       "    <tr>\n",
       "      <th>account</th>\n",
       "      <th></th>\n",
       "      <th></th>\n",
       "    </tr>\n",
       "  </thead>\n",
       "  <tbody>\n",
       "    <tr>\n",
       "      <th>00023fda963eb48839a670cbdf74cd21</th>\n",
       "      <td>261.876970</td>\n",
       "      <td>16.363636</td>\n",
       "    </tr>\n",
       "    <tr>\n",
       "      <th>000458145e8ff76fb2907417d806d098</th>\n",
       "      <td>152.247424</td>\n",
       "      <td>23.611111</td>\n",
       "    </tr>\n",
       "    <tr>\n",
       "      <th>000b2159adf33dcb44291291e0575122</th>\n",
       "      <td>678.304469</td>\n",
       "      <td>219.000000</td>\n",
       "    </tr>\n",
       "    <tr>\n",
       "      <th>000cff3bf5b20e8bb5734eb0aeef6673</th>\n",
       "      <td>360.439931</td>\n",
       "      <td>65.187629</td>\n",
       "    </tr>\n",
       "    <tr>\n",
       "      <th>000f6054933c882efb96bc34b91c8924</th>\n",
       "      <td>77.269310</td>\n",
       "      <td>22.120000</td>\n",
       "    </tr>\n",
       "  </tbody>\n",
       "</table>\n",
       "</div>"
      ],
      "text/plain": [
       "                                      amount       count\n",
       "account                                                 \n",
       "00023fda963eb48839a670cbdf74cd21  261.876970   16.363636\n",
       "000458145e8ff76fb2907417d806d098  152.247424   23.611111\n",
       "000b2159adf33dcb44291291e0575122  678.304469  219.000000\n",
       "000cff3bf5b20e8bb5734eb0aeef6673  360.439931   65.187629\n",
       "000f6054933c882efb96bc34b91c8924   77.269310   22.120000"
      ]
     },
     "execution_count": 3,
     "metadata": {},
     "output_type": "execute_result"
    }
   ],
   "source": [
    "#Summarize the data by grouping unique accounts and averaging other data\n",
    "accounts_grouped = accounts_df.groupby('account').mean()\n",
    "accounts_grouped.head()"
   ]
  },
  {
   "cell_type": "code",
   "execution_count": 4,
   "metadata": {},
   "outputs": [
    {
     "data": {
      "text/html": [
       "<div>\n",
       "<style scoped>\n",
       "    .dataframe tbody tr th:only-of-type {\n",
       "        vertical-align: middle;\n",
       "    }\n",
       "\n",
       "    .dataframe tbody tr th {\n",
       "        vertical-align: top;\n",
       "    }\n",
       "\n",
       "    .dataframe thead th {\n",
       "        text-align: right;\n",
       "    }\n",
       "</style>\n",
       "<table border=\"1\" class=\"dataframe\">\n",
       "  <thead>\n",
       "    <tr style=\"text-align: right;\">\n",
       "      <th></th>\n",
       "      <th>avg_amount</th>\n",
       "      <th>avg_count</th>\n",
       "    </tr>\n",
       "    <tr>\n",
       "      <th>account</th>\n",
       "      <th></th>\n",
       "      <th></th>\n",
       "    </tr>\n",
       "  </thead>\n",
       "  <tbody>\n",
       "    <tr>\n",
       "      <th>00023fda963eb48839a670cbdf74cd21</th>\n",
       "      <td>261.876970</td>\n",
       "      <td>16.363636</td>\n",
       "    </tr>\n",
       "    <tr>\n",
       "      <th>000458145e8ff76fb2907417d806d098</th>\n",
       "      <td>152.247424</td>\n",
       "      <td>23.611111</td>\n",
       "    </tr>\n",
       "    <tr>\n",
       "      <th>000b2159adf33dcb44291291e0575122</th>\n",
       "      <td>678.304469</td>\n",
       "      <td>219.000000</td>\n",
       "    </tr>\n",
       "    <tr>\n",
       "      <th>000cff3bf5b20e8bb5734eb0aeef6673</th>\n",
       "      <td>360.439931</td>\n",
       "      <td>65.187629</td>\n",
       "    </tr>\n",
       "    <tr>\n",
       "      <th>000f6054933c882efb96bc34b91c8924</th>\n",
       "      <td>77.269310</td>\n",
       "      <td>22.120000</td>\n",
       "    </tr>\n",
       "  </tbody>\n",
       "</table>\n",
       "</div>"
      ],
      "text/plain": [
       "                                  avg_amount   avg_count\n",
       "account                                                 \n",
       "00023fda963eb48839a670cbdf74cd21  261.876970   16.363636\n",
       "000458145e8ff76fb2907417d806d098  152.247424   23.611111\n",
       "000b2159adf33dcb44291291e0575122  678.304469  219.000000\n",
       "000cff3bf5b20e8bb5734eb0aeef6673  360.439931   65.187629\n",
       "000f6054933c882efb96bc34b91c8924   77.269310   22.120000"
      ]
     },
     "execution_count": 4,
     "metadata": {},
     "output_type": "execute_result"
    }
   ],
   "source": [
    "#Rename the columns to reflect that they are averages\n",
    "accounts_grouped = accounts_grouped.rename(columns={'amount': 'avg_amount', 'count': 'avg_count'})\n",
    "accounts_grouped.head()"
   ]
  },
  {
   "cell_type": "code",
   "execution_count": 5,
   "metadata": {},
   "outputs": [
    {
     "data": {
      "text/plain": [
       "Text(0.5, 1.0, 'Distribution of Accounts by Avg Transaction Size')"
      ]
     },
     "execution_count": 5,
     "metadata": {},
     "output_type": "execute_result"
    },
    {
     "data": {
      "image/png": "[encoded data removed]",
      "text/plain": [
       "<Figure size 432x288 with 1 Axes>"
      ]
     },
     "metadata": {
      "needs_background": "light"
     },
     "output_type": "display_data"
    }
   ],
   "source": [
    "#Use a histogram to see the avg_amount distribution\n",
    "accounts_grouped.hist(column='avg_amount', bins=100)\n",
    "plt.xlabel('avg amount')\n",
    "plt.ylabel('# of accounts')\n",
    "plt.title('Distribution of Accounts by Avg Transaction Size')"
   ]
  },
  {
   "cell_type": "code",
   "execution_count": 6,
   "metadata": {},
   "outputs": [
    {
     "data": {
      "text/plain": [
       "13061.376060047765"
      ]
     },
     "execution_count": 6,
     "metadata": {},
     "output_type": "execute_result"
    }
   ],
   "source": [
    "#What is the size of each decile?\n",
    "first_decile = accounts_grouped['avg_amount'].max()/10\n",
    "first_decile"
   ]
  },
  {
   "cell_type": "code",
   "execution_count": 11,
   "metadata": {},
   "outputs": [
    {
     "data": {
      "text/plain": [
       "1306.1376060047764"
      ]
     },
     "execution_count": 11,
     "metadata": {},
     "output_type": "execute_result"
    }
   ],
   "source": [
    "first_percentile = first_decile/10\n",
    "first_percentile"
   ]
  },
  {
   "cell_type": "code",
   "execution_count": 7,
   "metadata": {},
   "outputs": [
    {
     "data": {
      "text/plain": [
       "9999"
      ]
     },
     "execution_count": 7,
     "metadata": {},
     "output_type": "execute_result"
    }
   ],
   "source": [
    "total_accounts = accounts_grouped['avg_amount'].count()\n",
    "total_accounts"
   ]
  },
  {
   "cell_type": "code",
   "execution_count": 8,
   "metadata": {},
   "outputs": [
    {
     "data": {
      "text/plain": [
       "'0.9986998699869987% of accounts are in the first decile'"
      ]
     },
     "execution_count": 8,
     "metadata": {},
     "output_type": "execute_result"
    }
   ],
   "source": [
    "#What percent of accounts are in the 1st decile?\n",
    "f\"{((total_accounts)-(accounts_grouped['avg_amount']>first_decile).sum())/total_accounts}% of accounts are in the first decile\" "
   ]
  },
  {
   "cell_type": "code",
   "execution_count": 19,
   "metadata": {},
   "outputs": [
    {
     "data": {
      "text/plain": [
       "'0.9736973697369737% of accounts are in the first percentile'"
      ]
     },
     "execution_count": 19,
     "metadata": {},
     "output_type": "execute_result"
    }
   ],
   "source": [
    "#What percent of accounts are in the 1st percentile?\n",
    "f\"{((total_accounts)-(accounts_grouped['avg_amount']>first_percentile).sum())/total_accounts}% of accounts are in the first percentile\" "
   ]
  },
  {
   "cell_type": "markdown",
   "metadata": {},
   "source": [
    "# 7)\tHow are accounts distributed by their largest ever single month volume?"
   ]
  },
  {
   "cell_type": "code",
   "execution_count": 28,
   "metadata": {},
   "outputs": [
    {
     "data": {
      "text/plain": [
       "account            object\n",
       "date       datetime64[ns]\n",
       "amount            float64\n",
       "count             float64\n",
       "dtype: object"
      ]
     },
     "execution_count": 28,
     "metadata": {},
     "output_type": "execute_result"
    }
   ],
   "source": [
    "#Convert the 10 digit unix date to datetime in the df, then preview the result\n",
    "accounts_df['date'] = pd.to_datetime(accounts_df['date'])\n",
    "accounts_df.dtypes"
   ]
  },
  {
   "cell_type": "code",
   "execution_count": 32,
   "metadata": {},
   "outputs": [
    {
     "data": {
      "text/html": [
       "<div>\n",
       "<style scoped>\n",
       "    .dataframe tbody tr th:only-of-type {\n",
       "        vertical-align: middle;\n",
       "    }\n",
       "\n",
       "    .dataframe tbody tr th {\n",
       "        vertical-align: top;\n",
       "    }\n",
       "\n",
       "    .dataframe thead th {\n",
       "        text-align: right;\n",
       "    }\n",
       "</style>\n",
       "<table border=\"1\" class=\"dataframe\">\n",
       "  <thead>\n",
       "    <tr style=\"text-align: right;\">\n",
       "      <th></th>\n",
       "      <th>account</th>\n",
       "      <th>date</th>\n",
       "      <th>amount</th>\n",
       "      <th>count</th>\n",
       "      <th>month</th>\n",
       "    </tr>\n",
       "  </thead>\n",
       "  <tbody>\n",
       "    <tr>\n",
       "      <th>0</th>\n",
       "      <td>5e0a5eb5575517efdddb2799c90e2e9b</td>\n",
       "      <td>2017-08-16</td>\n",
       "      <td>15.144020</td>\n",
       "      <td>56.0</td>\n",
       "      <td>Aug-17</td>\n",
       "    </tr>\n",
       "    <tr>\n",
       "      <th>1</th>\n",
       "      <td>ff6cc8cadcb7457f9ddb2dd238a13733</td>\n",
       "      <td>2017-08-16</td>\n",
       "      <td>3651.412248</td>\n",
       "      <td>432.0</td>\n",
       "      <td>Aug-17</td>\n",
       "    </tr>\n",
       "    <tr>\n",
       "      <th>2</th>\n",
       "      <td>324a05f1f917b8a0af83a54e55a1ef63</td>\n",
       "      <td>2017-08-16</td>\n",
       "      <td>113.219243</td>\n",
       "      <td>50.0</td>\n",
       "      <td>Aug-17</td>\n",
       "    </tr>\n",
       "    <tr>\n",
       "      <th>3</th>\n",
       "      <td>b9abff45dc08172b556cb10b7c3c2252</td>\n",
       "      <td>2017-08-16</td>\n",
       "      <td>697.224210</td>\n",
       "      <td>135.0</td>\n",
       "      <td>Aug-17</td>\n",
       "    </tr>\n",
       "    <tr>\n",
       "      <th>4</th>\n",
       "      <td>e6ff738c8dd54092b5b1de683fc71dc0</td>\n",
       "      <td>2017-08-16</td>\n",
       "      <td>41.867847</td>\n",
       "      <td>76.0</td>\n",
       "      <td>Aug-17</td>\n",
       "    </tr>\n",
       "  </tbody>\n",
       "</table>\n",
       "</div>"
      ],
      "text/plain": [
       "                            account       date       amount  count   month\n",
       "0  5e0a5eb5575517efdddb2799c90e2e9b 2017-08-16    15.144020   56.0  Aug-17\n",
       "1  ff6cc8cadcb7457f9ddb2dd238a13733 2017-08-16  3651.412248  432.0  Aug-17\n",
       "2  324a05f1f917b8a0af83a54e55a1ef63 2017-08-16   113.219243   50.0  Aug-17\n",
       "3  b9abff45dc08172b556cb10b7c3c2252 2017-08-16   697.224210  135.0  Aug-17\n",
       "4  e6ff738c8dd54092b5b1de683fc71dc0 2017-08-16    41.867847   76.0  Aug-17"
      ]
     },
     "execution_count": 32,
     "metadata": {},
     "output_type": "execute_result"
    }
   ],
   "source": [
    "#Create a 'month' column we can use to efficiently summarize\n",
    "accounts_df['month'] = accounts_df['date'].dt.strftime('%b-%y')\n",
    "accounts_df.head()"
   ]
  },
  {
   "cell_type": "code",
   "execution_count": 57,
   "metadata": {},
   "outputs": [
    {
     "data": {
      "text/html": [
       "<div>\n",
       "<style scoped>\n",
       "    .dataframe tbody tr th:only-of-type {\n",
       "        vertical-align: middle;\n",
       "    }\n",
       "\n",
       "    .dataframe tbody tr th {\n",
       "        vertical-align: top;\n",
       "    }\n",
       "\n",
       "    .dataframe thead th {\n",
       "        text-align: right;\n",
       "    }\n",
       "</style>\n",
       "<table border=\"1\" class=\"dataframe\">\n",
       "  <thead>\n",
       "    <tr style=\"text-align: right;\">\n",
       "      <th></th>\n",
       "      <th>max_month_amt</th>\n",
       "      <th>max_month_ct</th>\n",
       "    </tr>\n",
       "    <tr>\n",
       "      <th>account</th>\n",
       "      <th></th>\n",
       "      <th></th>\n",
       "    </tr>\n",
       "  </thead>\n",
       "  <tbody>\n",
       "    <tr>\n",
       "      <th>00023fda963eb48839a670cbdf74cd21</th>\n",
       "      <td>5007.873493</td>\n",
       "      <td>210.0</td>\n",
       "    </tr>\n",
       "    <tr>\n",
       "      <th>000458145e8ff76fb2907417d806d098</th>\n",
       "      <td>4670.916987</td>\n",
       "      <td>459.0</td>\n",
       "    </tr>\n",
       "    <tr>\n",
       "      <th>000b2159adf33dcb44291291e0575122</th>\n",
       "      <td>19339.777019</td>\n",
       "      <td>6132.0</td>\n",
       "    </tr>\n",
       "    <tr>\n",
       "      <th>000cff3bf5b20e8bb5734eb0aeef6673</th>\n",
       "      <td>17029.032918</td>\n",
       "      <td>3104.0</td>\n",
       "    </tr>\n",
       "    <tr>\n",
       "      <th>000f6054933c882efb96bc34b91c8924</th>\n",
       "      <td>2417.231867</td>\n",
       "      <td>560.0</td>\n",
       "    </tr>\n",
       "  </tbody>\n",
       "</table>\n",
       "</div>"
      ],
      "text/plain": [
       "                                  max_month_amt  max_month_ct\n",
       "account                                                      \n",
       "00023fda963eb48839a670cbdf74cd21    5007.873493         210.0\n",
       "000458145e8ff76fb2907417d806d098    4670.916987         459.0\n",
       "000b2159adf33dcb44291291e0575122   19339.777019        6132.0\n",
       "000cff3bf5b20e8bb5734eb0aeef6673   17029.032918        3104.0\n",
       "000f6054933c882efb96bc34b91c8924    2417.231867         560.0"
      ]
     },
     "execution_count": 57,
     "metadata": {},
     "output_type": "execute_result"
    }
   ],
   "source": [
    "#Use groupbys to get the volume of each account's highest volume month ever\n",
    "monthly_sum = accounts_df.groupby(['account', 'month']).sum()\n",
    "max_month = monthly_sum.groupby(['account']).max()\n",
    "\n",
    "#Rename the columns to reflect their summary nature\n",
    "max_month = max_month.rename(columns={'amount': 'max_month_amt', 'count': 'max_month_ct'})\n",
    "\n",
    "max_month.head()"
   ]
  },
  {
   "cell_type": "code",
   "execution_count": 63,
   "metadata": {},
   "outputs": [
    {
     "data": {
      "text/plain": [
       "Text(0.5, 1.0, 'Distribution of Accounts by Max Monthly Volume')"
      ]
     },
     "execution_count": 63,
     "metadata": {},
     "output_type": "execute_result"
    },
    {
     "data": {
      "image/png": "[encoded data removed]",
      "text/plain": [
       "<Figure size 432x288 with 1 Axes>"
      ]
     },
     "metadata": {
      "needs_background": "light"
     },
     "output_type": "display_data"
    }
   ],
   "source": [
    "#Use a histogram to see the max monthly count distribution\n",
    "max_month.hist(column='max_month_ct', bins=100)\n",
    "plt.xlabel('max monthly count')\n",
    "plt.ylabel('# of accounts')\n",
    "plt.title('Distribution of Accounts by Max Monthly Volume')"
   ]
  },
  {
   "cell_type": "code",
   "execution_count": 69,
   "metadata": {},
   "outputs": [],
   "source": [
    "#What is the size of each decile?\n",
    "first_decile2 = max_month['max_month_ct'].max()/10\n",
    "first_percentile2 = first_decile2/10"
   ]
  },
  {
   "cell_type": "code",
   "execution_count": 70,
   "metadata": {},
   "outputs": [
    {
     "data": {
      "text/plain": [
       "'0.995099509950995% of accounts are in the first decile'"
      ]
     },
     "execution_count": 70,
     "metadata": {},
     "output_type": "execute_result"
    }
   ],
   "source": [
    "#What percent of accounts are in the 1st decile?\n",
    "f\"{((total_accounts)-(max_month['max_month_ct']>first_decile).sum())/total_accounts}% of accounts are in the first decile\" "
   ]
  },
  {
   "cell_type": "code",
   "execution_count": 71,
   "metadata": {},
   "outputs": [
    {
     "data": {
      "text/plain": [
       "'0.7711771177117712% of accounts are in the first percentile'"
      ]
     },
     "execution_count": 71,
     "metadata": {},
     "output_type": "execute_result"
    }
   ],
   "source": [
    "#What percent of accounts are in the 1st percentile?\n",
    "f\"{((total_accounts)-(max_month['max_month_ct']>first_percentile).sum())/total_accounts}% of accounts are in the first percentile\" "
   ]
  },
  {
   "cell_type": "code",
   "execution_count": 95,
   "metadata": {},
   "outputs": [
    {
     "data": {
      "text/plain": [
       "'0.6671667166716672%'"
      ]
     },
     "execution_count": 95,
     "metadata": {},
     "output_type": "execute_result"
    }
   ],
   "source": [
    "#What percent of accounts have a max monthly volume of less than 1,000?\n",
    "f\"{((total_accounts)-(max_month['max_month_ct']>1000).sum())/total_accounts}%\" "
   ]
  },
  {
   "cell_type": "code",
   "execution_count": null,
   "metadata": {},
   "outputs": [],
   "source": []
  }
 ],
 "metadata": {
  "kernelspec": {
   "display_name": "Python 3",
   "language": "python",
   "name": "python3"
  },
  "language_info": {
   "codemirror_mode": {
    "name": "ipython",
    "version": 3
   },
   "file_extension": ".py",
   "mimetype": "text/x-python",
   "name": "python",
   "nbconvert_exporter": "python",
   "pygments_lexer": "ipython3",
   "version": "3.7.1"
  }
 },
 "nbformat": 4,
 "nbformat_minor": 2
}
